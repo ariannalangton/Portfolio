{
  "nbformat": 4,
  "nbformat_minor": 0,
  "metadata": {
    "colab": {
      "provenance": []
    },
    "kernelspec": {
      "name": "python3",
      "display_name": "Python 3"
    },
    "language_info": {
      "name": "python"
    }
  },
  "cells": [
    {
      "cell_type": "code",
      "source": [
        "!pip install faker"
      ],
      "metadata": {
        "colab": {
          "base_uri": "https://localhost:8080/"
        },
        "id": "8w239H2jcsUe",
        "outputId": "5ce1b5d5-9551-4b76-b00a-ddd766e7cc89"
      },
      "execution_count": 2,
      "outputs": [
        {
          "output_type": "stream",
          "name": "stdout",
          "text": [
            "Collecting faker\n",
            "  Downloading Faker-36.1.0-py3-none-any.whl.metadata (15 kB)\n",
            "Requirement already satisfied: tzdata in /usr/local/lib/python3.11/dist-packages (from faker) (2025.1)\n",
            "Downloading Faker-36.1.0-py3-none-any.whl (1.9 MB)\n",
            "\u001b[?25l   \u001b[90m━━━━━━━━━━━━━━━━━━━━━━━━━━━━━━━━━━━━━━━━\u001b[0m \u001b[32m0.0/1.9 MB\u001b[0m \u001b[31m?\u001b[0m eta \u001b[36m-:--:--\u001b[0m\r\u001b[2K   \u001b[91m━━━━━━━━━━━━━━━━━━━━━\u001b[0m\u001b[91m╸\u001b[0m\u001b[90m━━━━━━━━━━━━━━━━━━\u001b[0m \u001b[32m1.0/1.9 MB\u001b[0m \u001b[31m30.8 MB/s\u001b[0m eta \u001b[36m0:00:01\u001b[0m\r\u001b[2K   \u001b[90m━━━━━━━━━━━━━━━━━━━━━━━━━━━━━━━━━━━━━━━━\u001b[0m \u001b[32m1.9/1.9 MB\u001b[0m \u001b[31m30.3 MB/s\u001b[0m eta \u001b[36m0:00:00\u001b[0m\n",
            "\u001b[?25hInstalling collected packages: faker\n",
            "Successfully installed faker-36.1.0\n"
          ]
        }
      ]
    },
    {
      "cell_type": "code",
      "execution_count": null,
      "metadata": {
        "colab": {
          "base_uri": "https://localhost:8080/"
        },
        "id": "Jft120nCcjOa",
        "outputId": "245d4bee-f064-4e1e-eff9-82aa799b01a9"
      },
      "outputs": [
        {
          "output_type": "stream",
          "name": "stdout",
          "text": [
            "   customer_id            name                         email  \\\n",
            "0            1   Terri Douglas      scottkenneth@example.com   \n",
            "1            2      Mark Noble  theodoreanderson@example.net   \n",
            "2            3   Antonio Clark     claudiacooper@example.org   \n",
            "3            4  Matthew Lester        michelle86@example.org   \n",
            "4            5   Anthony Cantu    gabrieljackson@example.org   \n",
            "\n",
            "                                             address  \n",
            "0   260 Robert Manors Suite 685, Henryfort, VI 55125  \n",
            "1  47149 Faulkner Valley Suite 132, New Morgan, M...  \n",
            "2  0208 Harrington Streets, Mendozaborough, NC 26512  \n",
            "3                   PSC 4208, Box 9530, APO AE 93915  \n",
            "4  7986 Caitlyn Street Suite 072, Katelynstad, WI...  \n"
          ]
        }
      ],
      "source": [
        "import pandas as pd\n",
        "from faker import Faker\n",
        "\n",
        "# Initialize Faker instance with US locale\n",
        "fake = Faker('en_US')\n",
        "\n",
        "# Number of customers to generate\n",
        "num_customers = 1000\n",
        "\n",
        "# Generate customer data\n",
        "customers_data = []\n",
        "for i in range(num_customers):\n",
        "    customer_id = i + 1\n",
        "    name = fake.name()\n",
        "    email = fake.email()\n",
        "    address = fake.address().replace(\"\\n\", \", \")  # Remove newline in address to keep it in one line\n",
        "    customers_data.append([customer_id, name, email, address])\n",
        "\n",
        "# Create a DataFrame\n",
        "customers_df = pd.DataFrame(customers_data, columns=['customer_id', 'name', 'email', 'address'])\n",
        "\n",
        "# Optionally, save it to a CSV\n",
        "customers_df.to_csv('customers_with_us_addresses.csv', index=False)\n",
        "\n",
        "# Display first few rows\n",
        "print(customers_df.head())\n"
      ]
    },
    {
      "cell_type": "code",
      "source": [
        "import pandas as pd\n",
        "import random\n",
        "from datetime import datetime, timedelta\n",
        "from faker import Faker\n",
        "\n",
        "# Initialize Faker instance with US locale\n",
        "fake = Faker('en_US')\n",
        "\n",
        "# Number of orders to generate\n",
        "num_orders = 4000\n",
        "\n",
        "# Number of unique products\n",
        "num_products = 100\n",
        "\n",
        "# List of fake product IDs (e.g., 1001, 1002, ..., 1100)\n",
        "product_ids = [i for i in range(1001, 1001 + num_products)]\n",
        "\n",
        "# Product prices (randomly assigned between $5 and $100)\n",
        "product_prices = {product_id: random.uniform(5, 100) for product_id in product_ids}\n",
        "\n",
        "# Generate random dates in 2024\n",
        "def generate_random_date():\n",
        "    start_date = datetime(2024, 1, 1)\n",
        "    end_date = datetime(2024, 12, 31)\n",
        "    delta = end_date - start_date\n",
        "    random_days = random.randint(0, delta.days)\n",
        "    return start_date + timedelta(days=random_days)\n",
        "\n",
        "# Generate order data\n",
        "orders_data = []\n",
        "\n",
        "for order_id in range(1, num_orders + 1):\n",
        "    customer_id = random.randint(1, 1000)  # Randomly assign a customer from 1 to 1000\n",
        "    num_products_in_order = random.randint(1, 5)  # Each order can have between 1 and 5 products\n",
        "    order_total = 0\n",
        "    order_date = generate_random_date()  # Generate a random date for the order in 2024\n",
        "\n",
        "    for _ in range(num_products_in_order):\n",
        "        product_id = random.choice(product_ids)\n",
        "        quantity = random.randint(1, 5)  # Random quantity between 1 and 5 for each product\n",
        "        total_price = quantity * product_prices[product_id]\n",
        "        order_total += total_price\n",
        "        orders_data.append([order_id, customer_id, product_id, quantity, total_price, order_date])\n",
        "\n",
        "# Create a DataFrame for orders\n",
        "orders_df = pd.DataFrame(orders_data, columns=['order_id', 'customer_id', 'product_id', 'quantity', 'total_cost', 'order_date'])\n",
        "\n",
        "# Optionally, save it to a CSV\n",
        "orders_df.to_csv('orders_with_dates.csv', index=False)\n",
        "\n",
        "# Display first few rows\n",
        "print(orders_df.head(15))\n"
      ],
      "metadata": {
        "colab": {
          "base_uri": "https://localhost:8080/"
        },
        "id": "YcTTUoyehpQ5",
        "outputId": "70a2e7e0-db06-4704-9e28-01f55a92f17e"
      },
      "execution_count": null,
      "outputs": [
        {
          "output_type": "stream",
          "name": "stdout",
          "text": [
            "    order_id  customer_id  product_id  quantity  total_cost order_date\n",
            "0          1          342        1080         2  183.851902 2024-07-12\n",
            "1          1          342        1009         4   36.692118 2024-07-12\n",
            "2          1          342        1005         5  399.599569 2024-07-12\n",
            "3          1          342        1060         3  287.227277 2024-07-12\n",
            "4          2          486        1036         1   22.618995 2024-03-27\n",
            "5          3          958        1034         1    8.545500 2024-02-23\n",
            "6          3          958        1071         4  187.119991 2024-02-23\n",
            "7          4          169        1053         4   93.654890 2024-04-03\n",
            "8          4          169        1046         5  292.234643 2024-04-03\n",
            "9          4          169        1036         2   45.237990 2024-04-03\n",
            "10         4          169        1008         1   44.299342 2024-04-03\n",
            "11         4          169        1097         1   75.009651 2024-04-03\n",
            "12         5          499        1036         5  113.094976 2024-07-26\n",
            "13         5          499        1011         2  121.083246 2024-07-26\n",
            "14         6          352        1004         1   30.451115 2024-08-01\n"
          ]
        }
      ]
    },
    {
      "cell_type": "code",
      "source": [
        "import pandas as pd\n",
        "import random\n",
        "from faker import Faker\n",
        "\n",
        "fake = Faker('en_US')\n",
        "\n",
        "num_products = 100\n",
        "\n",
        "# List of fake product IDs (1001, 1002, ..., 1100)\n",
        "product_ids = [i for i in range(1001, 1001 + num_products)]\n",
        "\n",
        "# List of possible product category ids\n",
        "categories = [\"1\", \"2\", \"3\", \"4\", \"5\", \"6\", \"7\", \"8\"]\n",
        "\n",
        "# Define adjectives and nouns for each category\n",
        "\n",
        "category_specific_data = {\n",
        "    \"1\": {\n",
        "        \"adjectives\": [\"Smart\", \"Wireless\", \"Compact\", \"Portable\", \"Innovative\", \"High-tech\", \"Premium\", \"Durable\"],\n",
        "        \"nouns\": [\"Speaker\", \"Headphones\", \"Phone\", \"Laptop\", \"Camera\", \"Smartwatch\", \"Earbuds\", \"Projector\"]\n",
        "    },\n",
        "    \"2\": {\n",
        "        \"adjectives\": [\"Comfortable\", \"Leather\", \"Modern\", \"Sleek\", \"Stylish\", \"Cozy\", \"Luxury\", \"Wooden\"],\n",
        "        \"nouns\": [\"Sofa\", \"Chair\", \"Table\", \"Bookshelf\", \"Couch\", \"Desk\", \"Bed\", \"Armchair\"]\n",
        "    },\n",
        "    \"3\": {\n",
        "        \"adjectives\": [\"Soft\", \"Cotton\", \"Stylish\", \"Trendy\", \"Colorful\", \"Chic\", \"Fashionable\", \"Comfortable\"],\n",
        "        \"nouns\": [\"Shirt\", \"Jeans\", \"Jacket\", \"Sweater\", \"T-shirt\", \"Blouse\", \"Dress\", \"Pants\"]\n",
        "    },\n",
        "    \"4\": {\n",
        "        \"adjectives\": [\"Fun\", \"Interactive\", \"Educational\", \"Colorful\", \"Bouncy\", \"Creative\", \"Toy\", \"Adventure\"],\n",
        "        \"nouns\": [\"Doll\", \"Truck\", \"Puzzle\", \"Action Figure\", \"Ball\", \"Building Blocks\", \"Robot\", \"Bicycle\"]\n",
        "    },\n",
        "    \"5\": {\n",
        "        \"adjectives\": [\"Thrilling\", \"Inspirational\", \"Fantasy\", \"Mystery\", \"Romantic\", \"Historical\", \"Adventurous\", \"Non-fiction\"],\n",
        "        \"nouns\": [\"Novel\", \"Biography\", \"Comic\", \"Poetry\", \"Cookbook\", \"Guide\", \"Magazine\", \"Self-help\"]\n",
        "    },\n",
        "    \"6\": {\n",
        "        \"adjectives\": [\"Durable\", \"Lightweight\", \"Flexible\", \"High-performance\", \"Comfortable\", \"Portable\", \"Ergonomic\", \"Heavy-duty\"],\n",
        "        \"nouns\": [\"Ball\", \"Racket\", \"Shuttlecock\", \"Bicycle\", \"Helmet\", \"Gloves\", \"Cleats\", \"Water Bottle\"]\n",
        "    },\n",
        "    \"7\": {\n",
        "        \"adjectives\": [\"Efficient\", \"Energy-saving\", \"Smart\", \"Compact\", \"Modern\", \"Convenient\", \"Automatic\", \"Portable\"],\n",
        "        \"nouns\": [\"Vacuum\", \"Blender\", \"Microwave\", \"Fridge\", \"Washing Machine\", \"Oven\", \"Toaster\", \"Dishwasher\"]\n",
        "    },\n",
        "    \"8\": {\n",
        "        \"adjectives\": [\"Luxurious\", \"Hydrating\", \"Organic\", \"Fragrant\", \"Smooth\", \"Gentle\", \"Glowing\", \"Revitalizing\"],\n",
        "        \"nouns\": [\"Shampoo\", \"Cream\", \"Perfume\", \"Lipstick\", \"Mascara\", \"Body Lotion\", \"Face Mask\", \"Serum\"]\n",
        "    }\n",
        "}\n",
        "\n",
        "# Generate product data with category-specific names\n",
        "products_data = []\n",
        "\n",
        "for product_id in product_ids:\n",
        "    category = random.choice(categories)  # Randomly choose a category\n",
        "    adjective = random.choice(category_specific_data[category][\"adjectives\"])  # Get category-specific adjectives\n",
        "    noun = random.choice(category_specific_data[category][\"nouns\"])  # Get category-specific nouns\n",
        "    product_name = f\"{adjective} {noun}\"  # Combine adjective and noun to form the product name\n",
        "    products_data.append([product_id, product_name, category])\n",
        "\n",
        "# Create a DataFrame for products\n",
        "products_df = pd.DataFrame(products_data, columns=['product_id', 'product_name', 'category_id'])\n",
        "\n",
        "# save it to a CSV\n",
        "products_df.to_csv('products_with_category_specific_names.csv', index=False)\n",
        "\n",
        "# Display first few rows\n",
        "print(products_df.head())\n"
      ],
      "metadata": {
        "colab": {
          "base_uri": "https://localhost:8080/"
        },
        "id": "shnGeVGIe6Gu",
        "outputId": "cb1be4b7-f0bf-41ac-d2d9-05acc79eabcd"
      },
      "execution_count": 6,
      "outputs": [
        {
          "output_type": "stream",
          "name": "stdout",
          "text": [
            "   product_id          product_name category_id\n",
            "0        1001        Stylish Jacket           3\n",
            "1        1002          Soft Sweater           3\n",
            "2        1003       Glowing Shampoo           8\n",
            "3        1004       Luxury Armchair           2\n",
            "4        1005  Innovative Projector           1\n"
          ]
        }
      ]
    },
    {
      "cell_type": "code",
      "source": [
        "categories = [\"Electronics\", \"Furniture\", \"Clothing\", \"Toys\", \"Books\", \"Sports\", \"Home Appliances\", \"Beauty\"]\n",
        "category_id = [\"1\", \"2\", \"3\", \"4\", \"5\", \"6\", \"7\", \"8\"]"
      ],
      "metadata": {
        "id": "6dT5iH39jjCn"
      },
      "execution_count": 7,
      "outputs": []
    },
    {
      "cell_type": "code",
      "source": [
        "# Create a DataFrame for categories\n",
        "categories_df = pd.DataFrame({'category_id':category_id, 'catergory_name':categories})\n",
        "\n",
        "# Optionally, save it to a CSV\n",
        "categories_df.to_csv('category_table.csv', index=False)"
      ],
      "metadata": {
        "id": "ZgLd8zEUkGgV"
      },
      "execution_count": 9,
      "outputs": []
    }
  ]
}